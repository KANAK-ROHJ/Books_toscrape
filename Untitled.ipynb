{
 "cells": [
  {
   "cell_type": "code",
   "execution_count": 16,
   "id": "7f2050d3",
   "metadata": {},
   "outputs": [],
   "source": [
    "import requests\n",
    "import pandas as pd\n",
    "from tqdm import tqdm\n",
    "from bs4 import BeautifulSoup"
   ]
  },
  {
   "cell_type": "code",
   "execution_count": 17,
   "id": "e3eda499",
   "metadata": {},
   "outputs": [
    {
     "name": "stderr",
     "output_type": "stream",
     "text": [
      "100%|██████████| 50/50 [25:50<00:00, 31.02s/it]\n"
     ]
    }
   ],
   "source": [
    "data=[]\n",
    "\n",
    "for i in tqdm(range(1,51)):\n",
    "    link='https://books.toscrape.com/catalogue/page-'+str(i)+'.html'\n",
    "    res=requests.get(link)\n",
    "    soup=BeautifulSoup(res.text,'html.parser')\n",
    "    \n",
    "    for sp in soup.find_all('li',class_='col-xs-6 col-sm-4 col-md-3 col-lg-3'):\n",
    "        \n",
    "        book_link='https://books.toscrape.com/catalogue/'+sp.find('a').get('href')\n",
    "        title=sp.find_all('a')[-1].get('title')\n",
    "        rating=sp.find('p').get('class')[-1]\n",
    "        \n",
    "        b_res=requests.get(book_link)\n",
    "        b_soup=BeautifulSoup(b_res.text,'html.parser')\n",
    "        \n",
    "        typ=b_soup.find('ul',class_='breadcrumb').find_all('a')[2].text\n",
    "        \n",
    "        b_info=b_soup.find('table',class_='table table-striped').find_all('td')\n",
    "        upc=b_info[0].text\n",
    "        price_excl_tax=b_info[2].text[2:]\n",
    "        price_incl_tax=b_info[3].text[2:]\n",
    "        tax=b_info[4].text[2:]\n",
    "        availability=b_info[5].text[10:-11]\n",
    "        reviews=b_info[6].text\n",
    "\n",
    "        data.append([title,typ,upc,rating,price_excl_tax,tax,price_incl_tax,availability,reviews,book_link])\n",
    "        "
   ]
  },
  {
   "cell_type": "code",
   "execution_count": 18,
   "id": "59f23917",
   "metadata": {},
   "outputs": [],
   "source": [
    "df=pd.DataFrame(data,columns=['Title','Category','UPC','Rating','Price_excl_tax','Tax','Price_incl_tax','Availability','Reviews','Link'])"
   ]
  },
  {
   "cell_type": "code",
   "execution_count": 19,
   "id": "f6120619",
   "metadata": {},
   "outputs": [
    {
     "data": {
      "text/html": [
       "<div>\n",
       "<style scoped>\n",
       "    .dataframe tbody tr th:only-of-type {\n",
       "        vertical-align: middle;\n",
       "    }\n",
       "\n",
       "    .dataframe tbody tr th {\n",
       "        vertical-align: top;\n",
       "    }\n",
       "\n",
       "    .dataframe thead th {\n",
       "        text-align: right;\n",
       "    }\n",
       "</style>\n",
       "<table border=\"1\" class=\"dataframe\">\n",
       "  <thead>\n",
       "    <tr style=\"text-align: right;\">\n",
       "      <th></th>\n",
       "      <th>Title</th>\n",
       "      <th>Category</th>\n",
       "      <th>UPC</th>\n",
       "      <th>Rating</th>\n",
       "      <th>Price_excl_tax</th>\n",
       "      <th>Tax</th>\n",
       "      <th>Price_incl_tax</th>\n",
       "      <th>Availability</th>\n",
       "      <th>Reviews</th>\n",
       "      <th>Link</th>\n",
       "    </tr>\n",
       "  </thead>\n",
       "  <tbody>\n",
       "    <tr>\n",
       "      <th>0</th>\n",
       "      <td>A Light in the Attic</td>\n",
       "      <td>Poetry</td>\n",
       "      <td>a897fe39b1053632</td>\n",
       "      <td>Three</td>\n",
       "      <td>51.77</td>\n",
       "      <td>0.00</td>\n",
       "      <td>51.77</td>\n",
       "      <td>22</td>\n",
       "      <td>0</td>\n",
       "      <td>https://books.toscrape.com/catalogue/a-light-i...</td>\n",
       "    </tr>\n",
       "    <tr>\n",
       "      <th>1</th>\n",
       "      <td>Tipping the Velvet</td>\n",
       "      <td>Historical Fiction</td>\n",
       "      <td>90fa61229261140a</td>\n",
       "      <td>One</td>\n",
       "      <td>53.74</td>\n",
       "      <td>0.00</td>\n",
       "      <td>53.74</td>\n",
       "      <td>20</td>\n",
       "      <td>0</td>\n",
       "      <td>https://books.toscrape.com/catalogue/tipping-t...</td>\n",
       "    </tr>\n",
       "    <tr>\n",
       "      <th>2</th>\n",
       "      <td>Soumission</td>\n",
       "      <td>Fiction</td>\n",
       "      <td>6957f44c3847a760</td>\n",
       "      <td>One</td>\n",
       "      <td>50.10</td>\n",
       "      <td>0.00</td>\n",
       "      <td>50.10</td>\n",
       "      <td>20</td>\n",
       "      <td>0</td>\n",
       "      <td>https://books.toscrape.com/catalogue/soumissio...</td>\n",
       "    </tr>\n",
       "    <tr>\n",
       "      <th>3</th>\n",
       "      <td>Sharp Objects</td>\n",
       "      <td>Mystery</td>\n",
       "      <td>e00eb4fd7b871a48</td>\n",
       "      <td>Four</td>\n",
       "      <td>47.82</td>\n",
       "      <td>0.00</td>\n",
       "      <td>47.82</td>\n",
       "      <td>20</td>\n",
       "      <td>0</td>\n",
       "      <td>https://books.toscrape.com/catalogue/sharp-obj...</td>\n",
       "    </tr>\n",
       "    <tr>\n",
       "      <th>4</th>\n",
       "      <td>Sapiens: A Brief History of Humankind</td>\n",
       "      <td>History</td>\n",
       "      <td>4165285e1663650f</td>\n",
       "      <td>Five</td>\n",
       "      <td>54.23</td>\n",
       "      <td>0.00</td>\n",
       "      <td>54.23</td>\n",
       "      <td>20</td>\n",
       "      <td>0</td>\n",
       "      <td>https://books.toscrape.com/catalogue/sapiens-a...</td>\n",
       "    </tr>\n",
       "  </tbody>\n",
       "</table>\n",
       "</div>"
      ],
      "text/plain": [
       "                                   Title            Category  \\\n",
       "0                   A Light in the Attic              Poetry   \n",
       "1                     Tipping the Velvet  Historical Fiction   \n",
       "2                             Soumission             Fiction   \n",
       "3                          Sharp Objects             Mystery   \n",
       "4  Sapiens: A Brief History of Humankind             History   \n",
       "\n",
       "                UPC Rating Price_excl_tax   Tax Price_incl_tax Availability  \\\n",
       "0  a897fe39b1053632  Three          51.77  0.00          51.77           22   \n",
       "1  90fa61229261140a    One          53.74  0.00          53.74           20   \n",
       "2  6957f44c3847a760    One          50.10  0.00          50.10           20   \n",
       "3  e00eb4fd7b871a48   Four          47.82  0.00          47.82           20   \n",
       "4  4165285e1663650f   Five          54.23  0.00          54.23           20   \n",
       "\n",
       "  Reviews                                               Link  \n",
       "0       0  https://books.toscrape.com/catalogue/a-light-i...  \n",
       "1       0  https://books.toscrape.com/catalogue/tipping-t...  \n",
       "2       0  https://books.toscrape.com/catalogue/soumissio...  \n",
       "3       0  https://books.toscrape.com/catalogue/sharp-obj...  \n",
       "4       0  https://books.toscrape.com/catalogue/sapiens-a...  "
      ]
     },
     "execution_count": 19,
     "metadata": {},
     "output_type": "execute_result"
    }
   ],
   "source": [
    "df.head()"
   ]
  },
  {
   "cell_type": "code",
   "execution_count": 20,
   "id": "726f08c7",
   "metadata": {},
   "outputs": [],
   "source": [
    "df.to_csv('Books.csv',index=False)"
   ]
  },
  {
   "cell_type": "code",
   "execution_count": null,
   "id": "cb1fead4",
   "metadata": {},
   "outputs": [],
   "source": []
  }
 ],
 "metadata": {
  "kernelspec": {
   "display_name": "Python 3 (ipykernel)",
   "language": "python",
   "name": "python3"
  },
  "language_info": {
   "codemirror_mode": {
    "name": "ipython",
    "version": 3
   },
   "file_extension": ".py",
   "mimetype": "text/x-python",
   "name": "python",
   "nbconvert_exporter": "python",
   "pygments_lexer": "ipython3",
   "version": "3.11.5"
  }
 },
 "nbformat": 4,
 "nbformat_minor": 5
}
